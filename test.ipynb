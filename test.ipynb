{
 "cells": [
  {
   "cell_type": "code",
   "execution_count": 1,
   "metadata": {},
   "outputs": [
    {
     "name": "stdout",
     "output_type": "stream",
     "text": [
      "1 2\n"
     ]
    }
   ],
   "source": [
    "a = [1,2]\n",
    "x,y = a\n",
    "print(x,y)"
   ]
  },
  {
   "cell_type": "code",
   "execution_count": 9,
   "metadata": {},
   "outputs": [],
   "source": [
    "from pyvis.network import Network\n",
    "\n",
    "net = Network()\n",
    "\n",
    "net.add_node(1, label='Alex')\n",
    "net.add_node(2, label='Cathy')\n",
    "\n",
    "net.show('nodes.html')"
   ]
  },
  {
   "cell_type": "code",
   "execution_count": 15,
   "metadata": {},
   "outputs": [
    {
     "name": "stdout",
     "output_type": "stream",
     "text": [
      "[3,5,2,1,4,6,7,8,9,10,11,12,13,14,15,16]\n",
      "                 3\n",
      "                / \\\n",
      "               /   \\\n",
      "              /     \\\n",
      "             /       \\\n",
      "            /         \\\n",
      "           /           \\\n",
      "          /             \\\n",
      "         /               \\\n",
      "        5                 2\n",
      "       / \\               / \\\n",
      "      /   \\             /   \\\n",
      "     /     \\           /     \\\n",
      "    1       4         /       \\\n",
      "   / \\     / \\       6         7\n",
      "  8   9   /   \\     / \\       / \\\n",
      " /       10   11   /   \\     /   \\\n",
      "16                12   13   14   15\n"
     ]
    }
   ],
   "source": [
    "from drawtree import draw_level_order\n",
    "\n",
    "tree = [3,5,2,1,4,6,7,8,9,10,11,12,13,14,15,16]\n",
    "string = \"[\"\n",
    "string += \",\".join(str(x) for x in tree)\n",
    "string += \"]\"\n",
    "\n",
    "print(string)\n",
    "draw_level_order(string)"
   ]
  },
  {
   "cell_type": "code",
   "execution_count": null,
   "metadata": {},
   "outputs": [],
   "source": []
  }
 ],
 "metadata": {
  "interpreter": {
   "hash": "f4fde45515710cbe4f4cf44a8ddef1b298277709bd6c5462499553af68a98f2e"
  },
  "kernelspec": {
   "display_name": "Python 3.8.0 64-bit",
   "language": "python",
   "name": "python3"
  },
  "language_info": {
   "codemirror_mode": {
    "name": "ipython",
    "version": 3
   },
   "file_extension": ".py",
   "mimetype": "text/x-python",
   "name": "python",
   "nbconvert_exporter": "python",
   "pygments_lexer": "ipython3",
   "version": "3.8.0"
  },
  "orig_nbformat": 4
 },
 "nbformat": 4,
 "nbformat_minor": 2
}
