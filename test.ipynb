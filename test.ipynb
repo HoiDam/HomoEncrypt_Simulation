{
 "cells": [
  {
   "cell_type": "code",
   "execution_count": 1,
   "metadata": {},
   "outputs": [
    {
     "name": "stdout",
     "output_type": "stream",
     "text": [
      "1 2\n"
     ]
    }
   ],
   "source": [
    "a = [1,2]\n",
    "x,y = a\n",
    "print(x,y)"
   ]
  },
  {
   "cell_type": "code",
   "execution_count": 9,
   "metadata": {},
   "outputs": [],
   "source": [
    "from pyvis.network import Network\n",
    "\n",
    "net = Network()\n",
    "\n",
    "net.add_node(1, label='Alex')\n",
    "net.add_node(2, label='Cathy')\n",
    "\n",
    "net.show('nodes.html')"
   ]
  },
  {
   "cell_type": "code",
   "execution_count": 15,
   "metadata": {},
   "outputs": [
    {
     "name": "stdout",
     "output_type": "stream",
     "text": [
      "[3,5,2,1,4,6,7,8,9,10,11,12,13,14,15,16]\n",
      "                 3\n",
      "                / \\\n",
      "               /   \\\n",
      "              /     \\\n",
      "             /       \\\n",
      "            /         \\\n",
      "           /           \\\n",
      "          /             \\\n",
      "         /               \\\n",
      "        5                 2\n",
      "       / \\               / \\\n",
      "      /   \\             /   \\\n",
      "     /     \\           /     \\\n",
      "    1       4         /       \\\n",
      "   / \\     / \\       6         7\n",
      "  8   9   /   \\     / \\       / \\\n",
      " /       10   11   /   \\     /   \\\n",
      "16                12   13   14   15\n"
     ]
    }
   ],
   "source": [
    "from drawtree import draw_level_order\n",
    "\n",
    "tree = [3,5,2,1,4,6,7,8,9,10,11,12,13,14,15,16]\n",
    "string = \"[\"\n",
    "string += \",\".join(str(x) for x in tree)\n",
    "string += \"]\"\n",
    "\n",
    "print(string)\n",
    "draw_level_order(string)"
   ]
  },
  {
   "cell_type": "code",
   "execution_count": 2,
   "metadata": {},
   "outputs": [
    {
     "name": "stdout",
     "output_type": "stream",
     "text": [
      "127.0.1.1\n"
     ]
    }
   ],
   "source": [
    "url = \"127.0.1.1:3000\"\n",
    "print(url.split(\":\")[0])"
   ]
  },
  {
   "cell_type": "code",
   "execution_count": 32,
   "metadata": {},
   "outputs": [
    {
     "name": "stdout",
     "output_type": "stream",
     "text": [
      "647225717667958234512676373328684966608135637121798638546825574314018838197362232702277832316406382792759851833889013515631314035361210\n"
     ]
    }
   ],
   "source": [
    "from phe import paillier\n",
    "import json\n",
    "public_key, private_key = paillier.generate_paillier_keypair()\n",
    "secret_number_list = 23**99\n",
    "x = public_key.encrypt(secret_number_list)+12323123\n",
    "\n",
    "enc_with_one_pub_key = {}\n",
    "enc_with_one_pub_key['public_key'] = {'g': public_key.g,\n",
    "                              'n': public_key.n}\n",
    "enc_with_one_pub_key['values'] = (str(x.ciphertext()), x.exponent)\n",
    "serialised = json.dumps(enc_with_one_pub_key)\n",
    "# print(serialised)\n",
    "\n",
    "received_dict = json.loads(serialised)\n",
    "pk = received_dict['public_key']\n",
    "enc_nums_rec = paillier.EncryptedNumber(public_key, int(received_dict['values'][0]), int(received_dict['values'][1]))\n",
    "print(private_key.decrypt(enc_nums_rec))"
   ]
  },
  {
   "cell_type": "code",
   "execution_count": 44,
   "metadata": {},
   "outputs": [
    {
     "name": "stdout",
     "output_type": "stream",
     "text": [
      "True\n"
     ]
    }
   ],
   "source": [
    "pk = {\"g\":public_key.g,\"n\":public_key.n}\n",
    "public_key_rec = paillier.PaillierPublicKey(public_key.n)\n",
    "print(public_key_rec.g == public_key.g)"
   ]
  },
  {
   "cell_type": "code",
   "execution_count": 48,
   "metadata": {},
   "outputs": [
    {
     "name": "stdout",
     "output_type": "stream",
     "text": [
      "{'success': True}\n"
     ]
    }
   ],
   "source": [
    "import requests\n",
    "print(requests.get(\"http://127.0.0.3:3000/host_up\").json())"
   ]
  },
  {
   "cell_type": "code",
   "execution_count": null,
   "metadata": {},
   "outputs": [],
   "source": []
  }
 ],
 "metadata": {
  "interpreter": {
   "hash": "f4fde45515710cbe4f4cf44a8ddef1b298277709bd6c5462499553af68a98f2e"
  },
  "kernelspec": {
   "display_name": "Python 3.8.0 64-bit",
   "language": "python",
   "name": "python3"
  },
  "language_info": {
   "codemirror_mode": {
    "name": "ipython",
    "version": 3
   },
   "file_extension": ".py",
   "mimetype": "text/x-python",
   "name": "python",
   "nbconvert_exporter": "python",
   "pygments_lexer": "ipython3",
   "version": "3.8.0"
  },
  "orig_nbformat": 4
 },
 "nbformat": 4,
 "nbformat_minor": 2
}
